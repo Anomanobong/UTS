{
  "nbformat": 4,
  "nbformat_minor": 0,
  "metadata": {
    "colab": {
      "name": "UTS Algo.ipynb",
      "provenance": [],
      "authorship_tag": "ABX9TyOZAJoFT6+cPYYDo0rvZp0I",
      "include_colab_link": true
    },
    "kernelspec": {
      "name": "python3",
      "display_name": "Python 3"
    }
  },
  "cells": [
    {
      "cell_type": "markdown",
      "metadata": {
        "id": "view-in-github",
        "colab_type": "text"
      },
      "source": [
        "<a href=\"https://colab.research.google.com/github/Anomanobong/UTS/blob/main/UTS_Algo.ipynb\" target=\"_parent\"><img src=\"https://colab.research.google.com/assets/colab-badge.svg\" alt=\"Open In Colab\"/></a>"
      ]
    },
    {
      "cell_type": "code",
      "metadata": {
        "colab": {
          "base_uri": "https://localhost:8080/"
        },
        "id": "lqVFd7Dy6eWJ",
        "outputId": "9f7a56cc-9daf-468c-b8b9-cab917b507e2"
      },
      "source": [
        "#Program bahasa python dibuat oleh muhammad Fahri Dika Yuda\r\n",
        "print(\"Seorang pemuda mahasiswa berbadan besar tinggi kekar  membawa sampah untuk dijual \")\r\n",
        "print(\"Perjuangannya membawa barang tersebut nampak dari berat dan jauhnya jarak terlukiskan oleh keringatnya, seperti biasa ia langsung melakukan hajatnya\")\r\n",
        "\r\n",
        "# fungsi botol\r\n",
        "def totalharga(x, y):\r\n",
        "    return x * y\r\n",
        "\r\n",
        "\r\n",
        "# menu operasi\r\n",
        "print(\"Pilih user\")\r\n",
        "print(\"1.nasabah\")\r\n",
        "print(\"2.admin\")\r\n",
        "\r\n",
        "# Meminta input dari pengguna\r\n",
        "choice = input(\"Masukkan  (1/2):  \")\r\n",
        "print(\"Menu harga sampah(/kg) \\n1.Tembaga=60rb\\n2.Botol Aqua=5rb\\n3.kaleng=7000\\n4.Gelas aqua=2000\\n5.Besi=6rb\\n6.gelas lain=1500\\nkertas=2500\")\r\n",
        "nama_barang= input(\"Jenis Sampah:\")\r\n",
        "massa = int(input(\"Hasil Berat Timbangan(Kg): \"))\r\n",
        "\r\n",
        "harga = int(input(\"Masukkan harga perkilo: \"))\r\n",
        "print(\"Jumlah uang yang harus diberikan admin adalah\")\r\n",
        "\r\n",
        "if choice == \"1\":\r\n",
        "    print(\"Setelah ditimbang diperoleh hasil timbangan\",massa,\"Kg\")\r\n",
        "    print(massa,\"*\",harga,\"=\", totalharga(massa,harga))\r\n",
        "    print(\"uang yang didapat Nasabah adalah Rp.\",totalharga(massa,harga),\",-\")\r\n",
        "    print(\"Dengan senyuman manis Mahasiswa tersebut menerima hasil bank sampah dan adminpun tersenyum melihat indah dan ikhlasnya senyuman\")\r\n",
        "\r\n",
        "\r\n",
        "elif choice == \"2\":\r\n",
        "    print(\"Setelah ditimbang diperoleh hasil timbangan\",massa,\"Kg\")\r\n",
        "    print(massa,\"*\",harga,\"=\", totalharga(massa,harga))\r\n",
        "    print(\"uang yang  admin berikan adalah Rp.\",totalharga(massa,harga),\",-\")\r\n",
        "    print(\"Setelah admin memberikan uangnya beliau mendoakan mahasiswa tersebut supaya sukses tanpa diketahui olehnya\")\r\n",
        "\r\n",
        "\r\n",
        "else:\r\n",
        "    print(\"Input salah\")\r\n",
        "\r\n"
      ],
      "execution_count": 20,
      "outputs": [
        {
          "output_type": "stream",
          "text": [
            "Seorang pemuda mahasiswa berbadan besar tinggi kekar  membawa sampah untuk dijual \n",
            "Perjuangannya membawa barang tersebut nampak dari berat dan jauhnya jarak terlukiskan oleh keringatnya, seperti biasa ia langsung melakukan hajatnya\n",
            "Pilih user\n",
            "1.nasabah\n",
            "2.admin\n",
            "Masukkan  (1/2):  1\n",
            "Menu harga sampah(/kg) \n",
            "1.Tembaga=60rb\n",
            "2.Botol Aqua=5rb\n",
            "3.kaleng=7000\n",
            "4.Gelas aqua=2000\n",
            "5.Besi=6rb\n",
            "6.gelas lain=1500\n",
            "kertas=2500\n",
            "Jenis Sampah:Tembaga\n",
            "Hasil Berat Timbangan(Kg): 100\n",
            "Masukkan harga perkilo: 60000\n",
            "Jumlah uang yang harus diberikan admin adalah\n",
            "Setelah ditimbang diperoleh hasil timbangan 100 Kg\n",
            "100 * 60000 = 6000000\n",
            "uang yang didapat Nasabah adalah Rp. 6000000 ,-\n",
            "Dengan senyuman manis Mahasiswa tersebut menerima hasil bank sampah dan adminpun tersenyum melihat indah dan ikhlasnya senyuman\n"
          ],
          "name": "stdout"
        }
      ]
    },
    {
      "cell_type": "code",
      "metadata": {
        "id": "k3rMXrHBADL4"
      },
      "source": [
        "#Program Bahasa C\r\n",
        "#include<stdio.h>\r\n",
        "#include<math.h>\r\n",
        "//Program dibuat Muhammad Fahri Dika Yuda/\r\n",
        "int main(void)\r\n",
        "{    //Deklarasi /\r\n",
        "    int massa,harga,totalharga;\r\n",
        "    char nasabah,jenis;\r\n",
        "    printf(\"Nasabah ingin menimbang sendiri ? Y/N\\n\");\r\n",
        "    scanf(\"%c\",  &nasabah);\r\n",
        "    printf(\"Menu harga sampah(/kg) \\n1.Tembaga=60rb\\n2.Botol Aqua=5rb\\n3.kaleng=7000\\n4.Gelas aqua=2000\\n5.Besi=6rb\\n6.gelas lain=1500\\nkertas=2500\");\r\n",
        "\r\n",
        "\r\n",
        "if( nasabah == 'Y')\r\n",
        "       {    printf(\"\\nMasukkan jenis sampah:\");\r\n",
        "            scanf(\"%s\", &jenis);\r\n",
        "            printf(\"\\nLihat Massa sampah(Kg):\");\r\n",
        "            scanf(\"%d\", &massa);\r\n",
        "            printf(\"Masukkan harga sesuai menu:\");\r\n",
        "            scanf(\"%d\", &harga);\r\n",
        "            printf(\"\\nTimbangan yang terbaca ialah %d Kg\", massa);\r\n",
        "            totalharga= massa * harga;\r\n",
        "            printf(\"\\nJadi uang yang diterima nasabah adalah Rp.%d,-\",totalharga);\r\n",
        "\r\n",
        "\r\n",
        "        }\r\n",
        "else if (nasabah == 'N')\r\n",
        "{          printf(\"\\n Masukkan jenis sampah:\");\r\n",
        "            scanf(\"%s\", &jenis);\r\n",
        "            printf(\"\\nLihat Massa sampah(Kg):\");\r\n",
        "            scanf(\"%d\", &massa);\r\n",
        "            printf(\"Masukkan harga sesuai menu:\");\r\n",
        "            scanf(\"%d\", &harga);\r\n",
        "            printf(\"\\nTimbangan yang terbaca ialah %d Kg\", massa);\r\n",
        "            totalharga= massa * harga;\r\n",
        "            printf(\"\\nJadi uang yang diberikan nasabah dari Admin adalah Rp.%d,-\",totalharga);\r\n",
        "\r\n",
        "        }\r\n",
        "        else\r\n",
        "        {\r\n",
        "            printf(\"\\nSilahkan bawa sampah yang sesuai\");\r\n",
        "        }\r\n",
        "    return 0;\r\n",
        "}\r\n"
      ],
      "execution_count": null,
      "outputs": []
    }
  ]
}